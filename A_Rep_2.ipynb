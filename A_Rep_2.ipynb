{
  "nbformat": 4,
  "nbformat_minor": 0,
  "metadata": {
    "colab": {
      "provenance": [],
      "toc_visible": true
    },
    "kernelspec": {
      "name": "python3",
      "display_name": "Python 3"
    },
    "language_info": {
      "name": "python"
    }
  },
  "cells": [
    {
      "cell_type": "markdown",
      "source": [
        "**# heapq**"
      ],
      "metadata": {
        "id": "3mtOmq7hIOH3"
      }
    },
    {
      "cell_type": "markdown",
      "source": [
        "**#Q: Compare the solution paths found by BFS, DFS, and A***\n",
        "\n",
        "Ans:\n",
        "*   BFS:\n",
        "(0, 0) → (4, 0) → (1, 3)\n",
        "*   DFS:\n",
        "(0, 0) → (0, 3) → (3, 0) → (3, 3) → (4, 2) → (4, 0) → (1, 3)\n",
        "*   A*:\n",
        "(0, 0) → (4, 0) → (1, 3)\n",
        "\n",
        "**#Q: Which algorithm gives the shortest path? Why?**\n",
        "\n",
        "**Ans:**\n",
        "\n",
        "\n",
        "\n",
        "*   BFS always finds the shortest path in unweighted problems like this by exploring all states breadth-wise, layer by layer—so the first time the goal is encountered, it is at minimal depth.\n",
        "*   A* also found the shortest path here as expected, since the heuristic is simple and admissible (it never overestimates distance to the goal). A* prioritizes states closer to the goal, so with a good heuristic, it matches or sometimes outperforms BFS in step minimization.\n",
        "*   DFS does not guarantee the shortest path. It follows a single path as deep as possible, possibly visiting non-optimal, longer solutions first.\n",
        "\n",
        "**#Q: Which algorithm is more efficient in terms of time and memory?**\n",
        "\n",
        "**Ans:**\n",
        "\n",
        "* Memory:\n",
        "\n",
        "    DFS is the most memory efficient; it only has to keep track of the current path and visited set, but can risk deep recursion or stack overflow in very large graphs.\n",
        "\n",
        "    BFS queues all frontier nodes at each level, so memory use can grow quickly in problems with large branching factors.\n",
        "\n",
        "    A*'s memory usage is typically similar to or higher than BFS because it stores all possible paths. However, a strong heuristic can prune irrelevant paths quickly.\n",
        "\n",
        "* Time:\n",
        "\n",
        "    BFS is efficient for finding the shortest path in unweighted graphs but can be slow in very large search spaces due to wide exploration.\n",
        "\n",
        "    A* is often the most time-efficient if the heuristic is well-chosen, as it directs the search toward the goal more directly.\n",
        "\n",
        "    DFS may be fast for finding \"a\" solution, especially if the solution lies deep, but is not efficient for shortest path and can get stuck exploring long or infinite branches.\n",
        "\n",
        "\n",
        "\n",
        "\n",
        "\n",
        "\n",
        "\n",
        "\n",
        "\n"
      ],
      "metadata": {
        "id": "Zeo98gJJgndM"
      }
    }
  ]
}