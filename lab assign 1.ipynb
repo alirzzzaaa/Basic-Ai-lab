{
  "nbformat": 4,
  "nbformat_minor": 0,
  "metadata": {
    "colab": {
      "provenance": [],
      "toc_visible": true
    },
    "kernelspec": {
      "name": "python3",
      "display_name": "Python 3"
    },
    "language_info": {
      "name": "python"
    }
  },
  "cells": [
    {
      "cell_type": "markdown",
      "source": [
        "**Dictionary to store student information**"
      ],
      "metadata": {
        "id": "pziOjEgw_3le"
      }
    },
    {
      "cell_type": "code",
      "execution_count": 5,
      "metadata": {
        "colab": {
          "base_uri": "https://localhost:8080/"
        },
        "collapsed": true,
        "id": "32J_YfPN_FUX",
        "outputId": "65e523de-5696-4744-da53-4fa146432d19"
      },
      "outputs": [
        {
          "output_type": "stream",
          "name": "stdout",
          "text": [
            "Student info:\n",
            "name: Ali\n",
            "age: 21\n",
            "roll_number: 159\n",
            "grade: B\n",
            "\n",
            "After updating grade:\n",
            "name: Ali\n",
            "age: 21\n",
            "roll_number: 159\n",
            "grade: A\n",
            "\n",
            "After adding email:\n",
            "name: Ali\n",
            "age: 21\n",
            "roll_number: 159\n",
            "grade: A\n",
            "email: aliraza2k5@outlook.com\n",
            "\n",
            "After deleting roll_number:\n",
            "name: Ali\n",
            "age: 21\n",
            "grade: A\n",
            "email: aliraza2k5@outlook.com\n"
          ]
        }
      ],
      "source": [
        "# 1. Create dictionary\n",
        "student = {\n",
        "    \"name\": \"Ali\",\n",
        "    \"age\": 21,\n",
        "    \"roll_number\": \"159\",\n",
        "    \"grade\": \"B\"\n",
        "}\n",
        "\n",
        "# 2. Print all keys and values\n",
        "print(\"Student info:\")\n",
        "for key, value in student.items():\n",
        "    print(f\"{key}: {value}\")\n",
        "\n",
        "# 3. Update the grade\n",
        "student[\"grade\"] = \"A\"\n",
        "print(\"\\nAfter updating grade:\")\n",
        "for key, value in student.items():\n",
        "    print(f\"{key}: {value}\")\n",
        "\n",
        "# 4. Add new key 'email'\n",
        "student[\"email\"] = \"aliraza2k5@outlook.com\"\n",
        "print(\"\\nAfter adding email:\")\n",
        "for key, value in student.items():\n",
        "    print(f\"{key}: {value}\")\n",
        "\n",
        "# 5. Delete roll_number\n",
        "del student[\"roll_number\"]\n",
        "print(\"\\nAfter deleting roll_number:\")\n",
        "for key, value in student.items():\n",
        "    print(f\"{key}: {value}\")\n"
      ]
    },
    {
      "cell_type": "markdown",
      "source": [
        "**# Use of matplotlib library**"
      ],
      "metadata": {
        "id": "RosSGQ4fAAvg"
      }
    },
    {
      "cell_type": "code",
      "source": [
        "import matplotlib.pyplot as plt\n",
        "\n",
        "# Data\n",
        "X = [1, 2, 3, 4, 6]\n",
        "Y = [2, 4, 6, 8, 10]\n",
        "\n",
        "# Create a line plot\n",
        "plt.plot(X, Y)\n",
        "plt.title(\"Simple Line Plot\")\n",
        "plt.xlabel(\"X-axis\")\n",
        "plt.ylabel(\"Y-axis\")\n",
        "plt.grid(True)\n",
        "plt.show()\n"
      ],
      "metadata": {
        "colab": {
          "base_uri": "https://localhost:8080/",
          "height": 472
        },
        "id": "SE-I63-iAZWW",
        "outputId": "4896cbf0-3a5e-4fc3-a202-5b404f02030b"
      },
      "execution_count": 7,
      "outputs": [
        {
          "output_type": "display_data",
          "data": {
            "text/plain": [
              "<Figure size 640x480 with 1 Axes>"
            ],
            "image/png": "[encoded data removed]"
          },
          "metadata": {}
        }
      ]
    },
    {
      "cell_type": "markdown",
      "source": [
        "**# For Water jug Problem**"
      ],
      "metadata": {
        "id": "8PpngklnAq6R"
      }
    },
    {
      "cell_type": "code",
      "source": [
        "import time\n",
        "import tracemalloc\n",
        "from collections import deque\n",
        "\n",
        "# Jug capacities and goal\n",
        "jug1_capacity = 4\n",
        "jug2_capacity = 3\n",
        "goal = 2\n",
        "\n",
        "def get_next_states(state):\n",
        "    jug1, jug2 = state\n",
        "    next_states = set()\n",
        "    next_states.add((jug1_capacity, jug2))\n",
        "    next_states.add((jug1, jug2_capacity))\n",
        "    next_states.add((0, jug2))\n",
        "    next_states.add((jug1, 0))\n",
        "    # pour jug1 to jug2\n",
        "    pour1to2 = min(jug1, jug2_capacity-jug2)\n",
        "    next_states.add((jug1-pour1to2, jug2+pour1to2))\n",
        "    # pour jug2 to jug1\n",
        "    pour2to1 = min(jug2, jug1_capacity-jug1)\n",
        "    next_states.add((jug1+pour2to1, jug2-pour2to1))\n",
        "    return next_states\n",
        "\n",
        "def bfs(start, goal):\n",
        "    visited = set()\n",
        "    queue = deque([(start, [])])\n",
        "    while queue:\n",
        "        state, path = queue.popleft()\n",
        "        if state[0] == goal or state[1] == goal:\n",
        "            return path + [state]\n",
        "        visited.add(state)\n",
        "        for next_state in get_next_states(state):\n",
        "            if next_state not in visited:\n",
        "                queue.append((next_state, path + [state]))\n",
        "    return None\n",
        "\n",
        "def dfs(start, goal):\n",
        "    visited = set()\n",
        "    stack = [(start, [])]\n",
        "    while stack:\n",
        "        state, path = stack.pop()\n",
        "        if state[0] == goal or state[1] == goal:\n",
        "            return path + [state]\n",
        "        visited.add(state)\n",
        "        for next_state in get_next_states(state):\n",
        "            if next_state not in visited:\n",
        "                stack.append((next_state, path + [state]))\n",
        "    return None\n",
        "\n",
        "# BFS\n",
        "tracemalloc.start()\n",
        "start_time = time.time()\n",
        "bfs_path = bfs((0, 0), goal)\n",
        "bfs_time = time.time() - start_time\n",
        "bfs_memory = tracemalloc.get_traced_memory()[1]\n",
        "bfs_steps = len(bfs_path) if bfs_path else 0\n",
        "tracemalloc.stop()\n",
        "\n",
        "# DFS\n",
        "tracemalloc.start()\n",
        "start_time = time.time()\n",
        "dfs_path = dfs((0, 0), goal)\n",
        "dfs_time = time.time() - start_time\n",
        "dfs_memory = tracemalloc.get_traced_memory()[1]\n",
        "dfs_steps = len(dfs_path) if dfs_path else 0\n",
        "tracemalloc.stop()\n",
        "\n",
        "print(\"BFS steps:\", bfs_steps, \"| Time:\", bfs_time, \"sec | Memory:\", bfs_memory, \"bytes\")\n",
        "print(\"DFS steps:\", dfs_steps, \"| Time:\", dfs_time, \"sec | Memory:\", dfs_memory, \"bytes\")\n"
      ],
      "metadata": {
        "colab": {
          "base_uri": "https://localhost:8080/"
        },
        "id": "zcQrR2hnAwSI",
        "outputId": "2bd4d07d-4e1d-44aa-f413-a19a64a1985f"
      },
      "execution_count": 3,
      "outputs": [
        {
          "output_type": "stream",
          "name": "stdout",
          "text": [
            "BFS steps: 5 | Time: 0.0008571147918701172 sec | Memory: 19659 bytes\n",
            "DFS steps: 9 | Time: 0.0004069805145263672 sec | Memory: 19563 bytes\n"
          ]
        }
      ]
    },
    {
      "cell_type": "markdown",
      "source": [
        "# **A(*) to find the resulting path**"
      ],
      "metadata": {
        "id": "TAuJe35HBSx4"
      }
    },
    {
      "cell_type": "code",
      "source": [
        "import heapq\n",
        "\n",
        "# Maze (given as walks = 0, walls = 1)\n",
        "maze = [\n",
        "    [0, 1, 0, 0, 0, 0],\n",
        "    [0, 0, 0, 1, 0, 1],\n",
        "    [0, 0, 0, 1, 0, 0],\n",
        "    [0, 0, 1, 0, 0, 0],\n",
        "    [0, 0, 0, 1, 0, 0],\n",
        "    [1, 1, 0, 1, 0, 0]\n",
        "]\n",
        "start = (0, 0)\n",
        "goal = (5, 5)\n",
        "rows, cols = len(maze), len(maze[0])\n",
        "\n",
        "def heuristic(a, b):\n",
        "    # Manhattan distance\n",
        "    return abs(a[0] - b[0]) + abs(a[1] - b[1])\n",
        "\n",
        "def neighbors(node):\n",
        "    x, y = node\n",
        "    for dx, dy in [(-1,0),(1,0),(0,-1),(0,1)]:\n",
        "        nx, ny = x + dx, y + dy\n",
        "        if 0 <= nx < rows and 0 <= ny < cols and maze[nx][ny] == 0:\n",
        "            yield (nx, ny)\n",
        "\n",
        "def a_star(start, goal):\n",
        "    open_set = []\n",
        "    heapq.heappush(open_set, (0 + heuristic(start, goal), 0, start, [start]))\n",
        "    visited = set()\n",
        "    while open_set:\n",
        "        _, cost, node, path = heapq.heappop(open_set)\n",
        "        if node == goal:\n",
        "            return path\n",
        "        if node in visited:\n",
        "            continue\n",
        "        visited.add(node)\n",
        "        for neighbor in neighbors(node):\n",
        "            if neighbor not in visited:\n",
        "                heapq.heappush(open_set, (cost+1 + heuristic(neighbor, goal), cost+1, neighbor, path + [neighbor]))\n",
        "    return None\n",
        "\n",
        "result_path = a_star(start, goal)\n",
        "if result_path:\n",
        "    print(\"A* Path from A to Y:\")\n",
        "    for step in result_path:\n",
        "        print(step)\n",
        "else:\n",
        "    print(\"No path found!\")\n"
      ],
      "metadata": {
        "colab": {
          "base_uri": "https://localhost:8080/"
        },
        "id": "pMVkaKakBu-z",
        "outputId": "bcf81ac2-a8f0-4ace-b343-05dbffda82ac"
      },
      "execution_count": 4,
      "outputs": [
        {
          "output_type": "stream",
          "name": "stdout",
          "text": [
            "A* Path from A to Y:\n",
            "(0, 0)\n",
            "(1, 0)\n",
            "(1, 1)\n",
            "(1, 2)\n",
            "(0, 2)\n",
            "(0, 3)\n",
            "(0, 4)\n",
            "(1, 4)\n",
            "(2, 4)\n",
            "(2, 5)\n",
            "(3, 5)\n",
            "(4, 5)\n",
            "(5, 5)\n"
          ]
        }
      ]
    }
  ]
}