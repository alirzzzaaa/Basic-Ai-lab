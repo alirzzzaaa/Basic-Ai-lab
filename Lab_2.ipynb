{
  "nbformat": 4,
  "nbformat_minor": 0,
  "metadata": {
    "colab": {
      "provenance": [],
      "toc_visible": true
    },
    "kernelspec": {
      "name": "python3",
      "display_name": "Python 3"
    },
    "language_info": {
      "name": "python"
    }
  },
  "cells": [
    {
      "cell_type": "markdown",
      "source": [
        "#**Task 1: Lists**\n"
      ],
      "metadata": {
        "id": "hQ2FVmB75AJY"
      }
    },
    {
      "cell_type": "code",
      "source": [
        "numbers = [1, 2, 3, 4, 5, 6, 7, 8, 9, 10]\n",
        "print('Original Lists: ', numbers)\n",
        "\n",
        "print('Sum:',sum(numbers) ) # Sum of array\n",
        "print('Max:',max(numbers) ) # Max of array\n",
        "print('Min:',min(numbers) ) # Min of array\n",
        "\n",
        "numbers.append(11) # Add 11 to the end of the array\n",
        "numbers.remove(10) # Remove 11 from the array\n",
        "print('Modified Lists: ', numbers)\n",
        "\n",
        "print('Ascending Order:',sorted(numbers) ) # Sort array in ascending order\n",
        "print('Descending Order:',sorted(numbers, reverse=True) ) # Sort array in descending order\n"
      ],
      "metadata": {
        "colab": {
          "base_uri": "https://localhost:8080/"
        },
        "id": "DZ4iUZo4Axi3",
        "outputId": "4b438f11-d4b5-4c46-b88c-655cdde814e9"
      },
      "execution_count": 6,
      "outputs": [
        {
          "output_type": "stream",
          "name": "stdout",
          "text": [
            "Original Lists:  [1, 2, 3, 4, 5, 6, 7, 8, 9, 10]\n",
            "Sum: 55\n",
            "Max: 10\n",
            "Min: 1\n",
            "Modified Lists:  [1, 2, 3, 4, 5, 6, 7, 8, 9, 11]\n",
            "Ascending Order: [1, 2, 3, 4, 5, 6, 7, 8, 9, 11]\n",
            "Descending Order: [11, 9, 8, 7, 6, 5, 4, 3, 2, 1]\n"
          ]
        }
      ]
    },
    {
      "cell_type": "markdown",
      "source": [
        "#**Task 2: Tuples**"
      ],
      "metadata": {
        "id": "8bAd4qSK5MQI"
      }
    },
    {
      "cell_type": "code",
      "source": [
        "fruits = (\"apple\", \"banana\", \"cherry\", \"date\", \"elderberry\") #we can't add or remove items from a tuple\n",
        "print(fruits)\n",
        "print('second item: ', fruits[1])\n",
        "print('last item: ', fruits[-1])\n",
        "\n",
        "#fruits[0]='guava' # we can't change items in a tuple\n",
        "#print(fruits)\n",
        "\n",
        "#fruits_list = list(fruits)\n",
        "#print(fruits_list)"
      ],
      "metadata": {
        "colab": {
          "base_uri": "https://localhost:8080/"
        },
        "id": "Hh6KlNOLE_9q",
        "outputId": "74a4341a-b4da-4fa2-c839-e434d9c26c6a"
      },
      "execution_count": 35,
      "outputs": [
        {
          "output_type": "stream",
          "name": "stdout",
          "text": [
            "('apple', 'banana', 'cherry', 'date', 'elderberry')\n",
            "second item:  banana\n",
            "last item:  elderberry\n"
          ]
        }
      ]
    },
    {
      "cell_type": "markdown",
      "source": [
        "# **Task 3: Sets**"
      ],
      "metadata": {
        "id": "l8E9TaNt5Rhi"
      }
    },
    {
      "cell_type": "code",
      "source": [
        "set1 = {1, 2, 3, 4, 5}\n",
        "set2 = {4, 5, 6, 7, 8}\n",
        "\n",
        "print('Union:',set1.union(set2) ) # Union of sets\n",
        "print('Intersection:',set1.intersection(set2) ) # Intersection of sets\n",
        "print('Difference:',set1.difference(set2) ) # Difference of sets\n",
        "print('Symmetric Difference:',set1.symmetric_difference(set2) ) # Symmetric Difference of sets"
      ],
      "metadata": {
        "colab": {
          "base_uri": "https://localhost:8080/"
        },
        "id": "LjK6zl6qJicB",
        "outputId": "40a0245c-1154-4126-fba9-fb486b97ff21"
      },
      "execution_count": 37,
      "outputs": [
        {
          "output_type": "stream",
          "name": "stdout",
          "text": [
            "Union: {1, 2, 3, 4, 5, 6, 7, 8}\n",
            "Intersection: {4, 5}\n",
            "Difference: {1, 2, 3}\n",
            "Symmetric Difference: {1, 2, 3, 6, 7, 8}\n"
          ]
        }
      ]
    },
    {
      "cell_type": "markdown",
      "source": [
        "#**Task 4: Dictionaries**"
      ],
      "metadata": {
        "id": "jqOa7c5r5pFH"
      }
    },
    {
      "cell_type": "code",
      "source": [
        "students = {\n",
        " 'Alice': 123,\n",
        " 'Bob': 456,\n",
        " 'Charlie': 789\n",
        "}\n",
        "print(students)\n",
        "\n",
        "print('Keys: ',students.keys() )\n",
        "print('Values: ',students.values() )\n",
        "\n",
        "students['Alice'] = 321\n",
        "print(students)\n",
        "print('Alice:',students['Alice'] )\n"
      ],
      "metadata": {
        "colab": {
          "base_uri": "https://localhost:8080/"
        },
        "id": "ce9tUA-wJtjq",
        "outputId": "dd7dcd42-c817-45e7-86f2-136d6398bb2c"
      },
      "execution_count": 40,
      "outputs": [
        {
          "output_type": "stream",
          "name": "stdout",
          "text": [
            "{'Alice': 123, 'Bob': 456, 'Charlie': 789}\n",
            "Keys:  dict_keys(['Alice', 'Bob', 'Charlie'])\n",
            "Values:  dict_values([123, 456, 789])\n",
            "{'Alice': 321, 'Bob': 456, 'Charlie': 789}\n",
            "Alice: 321\n"
          ]
        }
      ]
    },
    {
      "cell_type": "markdown",
      "source": [
        "#**Task 5: Numpy**"
      ],
      "metadata": {
        "id": "GHAWXpKd54S6"
      }
    },
    {
      "cell_type": "markdown",
      "source": [
        "# **Task 6: Matplotlib**"
      ],
      "metadata": {
        "id": "8FHWcSGO5_93"
      }
    }
  ]
}