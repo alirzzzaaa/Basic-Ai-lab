{
  "nbformat": 4,
  "nbformat_minor": 0,
  "metadata": {
    "colab": {
      "provenance": [],
      "toc_visible": true
    },
    "kernelspec": {
      "name": "python3",
      "display_name": "Python 3"
    },
    "language_info": {
      "name": "python"
    }
  },
  "cells": [
    {
      "cell_type": "markdown",
      "source": [
        "**# Queue**"
      ],
      "metadata": {
        "id": "3mtOmq7hIOH3"
      }
    },
    {
      "cell_type": "code",
      "source": [
        "import heapq\n",
        "\n",
        "road_map = {\n",
        "    \"São Paulo\": {\"Rio de Janeiro\": 355, \"Curitiba\": 408},\n",
        "    \"Rio de Janeiro\": {\"São Paulo\": 355, \"Belo Horizonte\": 434},\n",
        "    \"Curitiba\": {\"São Paulo\": 408, \"Porto Alegre\": 712},\n",
        "    \"Porto Alegre\": {\"Curitiba\": 712, \"Brasília\": 1610},\n",
        "    \"Belo Horizonte\": {\"Rio de Janeiro\": 434},\n",
        "    \"Brasília\": {\"Porto Alegre\": 1610}\n",
        "}\n",
        "\n",
        "direct_distance = {\n",
        "    \"São Paulo\": 1015,\n",
        "    \"Rio de Janeiro\": 1140,\n",
        "    \"Curitiba\": 1440,\n",
        "    \"Porto Alegre\": 1610,\n",
        "    \"Belo Horizonte\": 716,\n",
        "    \"Brasília\": 0\n",
        "}\n",
        "\n",
        "def shortest_route(road_map, origin, destination, direct_distance):\n",
        "    to_explore = []\n",
        "    heapq.heappush(to_explore, (direct_distance[origin], [origin]))\n",
        "    cost_so_far = {origin: 0}\n",
        "    visited = set()\n",
        "\n",
        "    while to_explore:\n",
        "        current_priority, journey = heapq.heappop(to_explore)\n",
        "        current_city = journey[-1]\n",
        "\n",
        "        if current_city == destination:\n",
        "            return journey, cost_so_far[current_city]\n",
        "\n",
        "        if current_city in visited:\n",
        "            continue\n",
        "\n",
        "        visited.add(current_city)\n",
        "\n",
        "        for neighbor, distance in road_map[current_city].items():\n",
        "            candidate_cost = cost_so_far[current_city] + distance\n",
        "            if neighbor not in cost_so_far or candidate_cost < cost_so_far[neighbor]:\n",
        "                cost_so_far[neighbor] = candidate_cost\n",
        "                priority = candidate_cost + direct_distance.get(neighbor, float('inf'))\n",
        "                heapq.heappush(to_explore, (priority, journey + [neighbor]))\n",
        "    return None, float('inf')\n",
        "\n",
        "if __name__ == \"__main__\":\n",
        "    start = \"São Paulo\"\n",
        "    goal = \"Brasília\"\n",
        "    route, total_distance = shortest_route(road_map, start, goal, direct_distance)\n",
        "    print(\"Optimal route:\", route)\n",
        "    print(\"Total distance:\", total_distance)\n"
      ],
      "metadata": {
        "colab": {
          "base_uri": "https://localhost:8080/"
        },
        "id": "Qppro7VHIO0I",
        "outputId": "d5369427-a5a9-4cf0-a6e8-1ee992c00770"
      },
      "execution_count": 8,
      "outputs": [
        {
          "output_type": "stream",
          "name": "stdout",
          "text": [
            "Optimal route: ['São Paulo', 'Curitiba', 'Porto Alegre', 'Brasília']\n",
            "Total distance: 2730\n"
          ]
        }
      ]
    }
  ]
}