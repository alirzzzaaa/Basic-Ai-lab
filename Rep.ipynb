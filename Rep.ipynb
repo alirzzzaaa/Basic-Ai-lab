{
  "nbformat": 4,
  "nbformat_minor": 0,
  "metadata": {
    "colab": {
      "provenance": [],
      "toc_visible": true
    },
    "kernelspec": {
      "name": "python3",
      "display_name": "Python 3"
    },
    "language_info": {
      "name": "python"
    }
  },
  "cells": [
    {
      "cell_type": "code",
      "execution_count": 7,
      "metadata": {
        "colab": {
          "base_uri": "https://localhost:8080/"
        },
        "id": "j-XAi7_A8Isn",
        "outputId": "e2483ce9-1f0d-4527-db9d-aaa51def8f53"
      },
      "outputs": [
        {
          "output_type": "stream",
          "name": "stdout",
          "text": [
            "BFS Shortest Path from sahiwal to rawalpindi: ['sahiwal', 'okara', 'Lahore', 'gujrat', 'jehlum', 'gujar khan', 'rawalpindi']\n",
            "DFS Path from sahiwal to rawalpindi: ['sahiwal', 'okara', 'Lahore', 'gujrat', 'jehlum', 'gujar khan', 'rawalpindi']\n"
          ]
        }
      ],
      "source": [
        "from collections import deque\n",
        "pakistan_cities = {\n",
        "    'sahiwal': ['okara'],\n",
        "    'okara': ['sahiwal', 'Lahore'],\n",
        "    'Lahore': ['okara', 'gujrat', 'skardu'],\n",
        "    'gujrat': ['Lahore', 'jehlum'],\n",
        "    'skardu': ['Lahore'],\n",
        "    'jehlum': ['gujrat', 'gujar khan'],\n",
        "    'gujar khan': ['jehlum', 'rawalpindi'],\n",
        "    'rawalpindi': ['gujar khan']\n",
        "}\n",
        "def bfs_shortest_path(graph, start, goal):\n",
        "\n",
        "    queue = deque([[start]])\n",
        "\n",
        "    visited = set()\n",
        "\n",
        "    while queue:\n",
        "        path = queue.popleft()\n",
        "        current_city = path[-1]\n",
        "\n",
        "        if current_city == goal:\n",
        "            return path\n",
        "\n",
        "        if current_city not in visited:\n",
        "            visited.add(current_city)\n",
        "\n",
        "            for neighbor in graph.get(current_city, []):\n",
        "                new_path = list(path)\n",
        "                new_path.append(neighbor)\n",
        "\n",
        "                queue.append(new_path)\n",
        "\n",
        "    return None\n",
        "def dfs_path(graph, start, goal, path=None, visited=None):\n",
        "\n",
        "    \"path starts as an empty list to record the route you take.\"\n",
        "    if path is None:\n",
        "        path = []\n",
        "        \"visited starts as an empty set to remember visited places so you don't repeat them.\"\n",
        "    if visited is None:\n",
        "        visited = set()\n",
        "\n",
        "    path.append(start)\n",
        "    visited.add(start)\n",
        "\n",
        "    if start == goal:\n",
        "        return path\n",
        "\n",
        "    for neighbor in graph.get(start, []):\n",
        "        if neighbor not in visited:\n",
        "            result = dfs_path(graph, neighbor, goal, path.copy(), visited.copy())\n",
        "\n",
        "            if result:\n",
        "                return result\n",
        "\n",
        "    return None\n",
        "\n",
        "start_city = \"sahiwal\"\n",
        "goal_city = \"rawalpindi\"\n",
        "\n",
        "\n",
        "bfs_result = bfs_shortest_path(pakistan_cities, start_city, goal_city)\n",
        "print(\"BFS Shortest Path from sahiwal to rawalpindi:\", bfs_result)\n",
        "dfs_result = dfs_path(pakistan_cities, start_city, goal_city)\n",
        "print(\"DFS Path from sahiwal to rawalpindi:\", dfs_result)\n",
        "\n"
      ]
    }
  ]
}